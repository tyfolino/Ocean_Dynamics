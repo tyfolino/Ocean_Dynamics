{
 "cells": [
  {
   "cell_type": "markdown",
   "metadata": {},
   "source": [
    "# Assignment 1: Barotropic Vorticity\n",
    "\n",
    "By: Ty Janoski"
   ]
  },
  {
   "cell_type": "markdown",
   "metadata": {},
   "source": [
    "#### 1) Re-derive the barotropic vorticity budget for a non-flat ocean bottom.\n",
    "\n",
    "Begin with planetary-geostrophic horizontal momentum equation for a Boussinesq fluid:\n",
    "\n",
    "$$ \\vec{f} \\times \\vec{u} = -\\nabla\\phi + \\frac{1}{\\rho_0}\\frac{\\partial{\\vec{\\tau}}}{\\partial{z}}$$\n",
    "\n",
    "Next, take the curl of both sides:\n",
    "\n",
    "$$ \\vec{f}\\nabla \\cdotp \\vec{u} + \\frac{\\partial{f}}{\\partial{y}}v = curl_z(\\frac{\\partial{\\vec{\\tau}}}{\\partial{z}})$$\n",
    "\n",
    "We vertically integrate, but with a non-flat bottom ocean floor, the bounds of our integration are different. We define the orography of the ocean floor as a new variable, $\\eta_B$. Therefore, the lower bound of integration would be $-H + \\eta_B$, where $H$ is some flat surface that represents the average ocean depth from which $\\eta_B$ is the variation in. As before, $\\eta$ is the sea surface height.\n",
    "\n",
    "$$ -f \\int_{-H+\\eta_B}^{\\eta}\\nabla\\cdotp\\vec{u} + \\beta\\int_{-H+\\eta_B}^{\\eta}v dz = curl_z(\\int_{-H+\\eta_B}^{\\eta}\\frac{\\partial{\\vec{\\tau}}}{\\partial{z}})$$\n",
    "\n",
    "Using continuity, we can instead write:\n",
    "\n",
    "$$ -f \\int_{-H+\\eta_B}^{\\eta}\\frac{\\partial{w}}{\\partial{z}} + \\beta\\int_{-H+\\eta_B}^{\\eta}v dz = curl_z(\\int_{-H+\\eta_B}^{\\eta}\\frac{\\partial{\\vec{\\tau}}}{\\partial{z}})$$\n",
    "\n",
    "Integrating:\n",
    "\n",
    "$$ -f(w\\rvert_{z=\\eta})+f(w\\rvert_{z=-H+\\eta_B}) + \\beta V = curl_z(\\vec{\\tau}_S - \\vec{\\tau}_B)$$\n",
    "\n",
    "The first time on the lefthand side, the vertical velocity at the sea surface, is negligibly small because variations in $\\eta$ are extremely small. However, we cannot do the same for the vertical velocity at the ocean floor because of the variations in $\\eta_B$. Instead, we relate the vertical velocity to the slope of the ocean floor\n",
    "\n",
    "$$ w\\rvert_{z=-H+\\eta_B}=\\frac{D\\eta_B}{Dt} = \\frac{\\partial{\\eta_B}}{\\partial{t}} + \\vec{u} \\cdotp\\nabla\\eta_B$$\n",
    "\n",
    "Obviously, the sea floor is not changing in time. Therefore, we have:\n",
    "\n",
    "$$ \\beta V + f\\vec{u}\\cdotp\\nabla\\eta_B = curl_z(\\vec{\\tau}_S-\\vec{\\tau}_B) $$\n",
    "\n",
    "If we want to use the stommel model:\n",
    "\n",
    "$$ \\beta\\frac{\\partial{\\psi}}{\\partial{x}} + f\\vec{u}\\cdotp\\nabla\\eta_B = curl_z({\\vec{\\tau}}_S) - r\\nabla^2\\psi$$"
   ]
  },
  {
   "cell_type": "markdown",
   "metadata": {},
   "source": [
    "#### 2) Calculate the Stommel solution in the MITgcm tutorial_barotropic_gyre simulation and compare it to the full solution. Use the standard wind stress (0.1 N/m^2)  and also a double-strength wind stress (0.2 N/m^2). You will have to figure out how to write an appropriately formatted binary file."
   ]
  },
  {
   "cell_type": "code",
   "execution_count": 2,
   "metadata": {
    "collapsed": true
   },
   "outputs": [],
   "source": [
    "# Import statements:\n",
    "import xarray as xr\n",
    "import numpy as np\n",
    "import matplotlib.pyplot as plt\n",
    "import hvplot.xarray\n",
    "import xmitgcm\n",
    "xmitgcm.file_utils.clear_cache()"
   ]
  },
  {
   "cell_type": "code",
   "execution_count": 7,
   "metadata": {
    "scrolled": false
   },
   "outputs": [
    {
     "name": "stderr",
     "output_type": "stream",
     "text": [
      "/rigel/ocp/projects/conda/envs/pangeo2020/lib/python3.7/site-packages/xmitgcm/mds_store.py:236: FutureWarning: In xarray version 0.15 `auto_combine` will be deprecated. See\n",
      "http://xarray.pydata.org/en/stable/combining.html#combining-multi\n",
      "  ds = xr.auto_combine(datasets)\n",
      "/rigel/ocp/projects/conda/envs/pangeo2020/lib/python3.7/site-packages/xmitgcm/mds_store.py:236: FutureWarning: The datasets supplied have global dimension coordinates. You may want\n",
      "to use the new `combine_by_coords` function (or the\n",
      "`combine='by_coords'` option to `open_mfdataset`) to order the datasets\n",
      "before concatenation. Alternatively, to continue concatenating based\n",
      "on the order the datasets are supplied in future, please use the new\n",
      "`combine_nested` function (or the `combine='nested'` option to\n",
      "open_mfdataset).The datasets supplied require both concatenation and merging. From\n",
      "xarray version 0.15 this will operation will require either using the\n",
      "new `combine_nested` function (or the `combine='nested'` option to\n",
      "open_mfdataset), with a nested list structure such that you can combine\n",
      "along the dimensions None. Alternatively if your datasets have global\n",
      "dimension coordinates then you can use the new `combine_by_coords`\n",
      "function.\n",
      "  ds = xr.auto_combine(datasets)\n"
     ]
    },
    {
     "data": {
      "text/html": [
       "<pre>&lt;xarray.Dataset&gt;\n",
       "Dimensions:   (XC: 62, XG: 62, YC: 62, YG: 62, Z: 1, Zl: 1, Zp1: 2, Zu: 1, time: 200)\n",
       "Coordinates:\n",
       "  * XC        (XC) &gt;f4 -10000.0 10000.0 30000.0 ... 1190000.0 1210000.0\n",
       "  * YC        (YC) &gt;f4 -10000.0 10000.0 30000.0 ... 1190000.0 1210000.0\n",
       "  * XG        (XG) &gt;f4 -20000.0 0.0 20000.0 ... 1160000.0 1180000.0 1200000.0\n",
       "  * YG        (YG) &gt;f4 -20000.0 0.0 20000.0 ... 1160000.0 1180000.0 1200000.0\n",
       "  * Z         (Z) &gt;f4 -2500.0\n",
       "  * Zp1       (Zp1) &gt;f4 0.0 -5000.0\n",
       "  * Zu        (Zu) &gt;f4 -5000.0\n",
       "  * Zl        (Zl) &gt;f4 0.0\n",
       "    rA        (YC, XC) &gt;f4 dask.array&lt;chunksize=(62, 62), meta=np.ndarray&gt;\n",
       "    dxG       (YG, XC) &gt;f4 dask.array&lt;chunksize=(62, 62), meta=np.ndarray&gt;\n",
       "    dyG       (YC, XG) &gt;f4 dask.array&lt;chunksize=(62, 62), meta=np.ndarray&gt;\n",
       "    Depth     (YC, XC) &gt;f4 dask.array&lt;chunksize=(62, 62), meta=np.ndarray&gt;\n",
       "    rAz       (YG, XG) &gt;f4 dask.array&lt;chunksize=(62, 62), meta=np.ndarray&gt;\n",
       "    dxC       (YC, XG) &gt;f4 dask.array&lt;chunksize=(62, 62), meta=np.ndarray&gt;\n",
       "    dyC       (YG, XC) &gt;f4 dask.array&lt;chunksize=(62, 62), meta=np.ndarray&gt;\n",
       "    rAw       (YC, XG) &gt;f4 dask.array&lt;chunksize=(62, 62), meta=np.ndarray&gt;\n",
       "    rAs       (YG, XC) &gt;f4 dask.array&lt;chunksize=(62, 62), meta=np.ndarray&gt;\n",
       "    drC       (Zp1) &gt;f4 dask.array&lt;chunksize=(2,), meta=np.ndarray&gt;\n",
       "    drF       (Z) &gt;f4 dask.array&lt;chunksize=(1,), meta=np.ndarray&gt;\n",
       "    PHrefC    (Z) &gt;f4 dask.array&lt;chunksize=(1,), meta=np.ndarray&gt;\n",
       "    PHrefF    (Zp1) &gt;f4 dask.array&lt;chunksize=(2,), meta=np.ndarray&gt;\n",
       "    hFacC     (YC, XC) &gt;f4 dask.array&lt;chunksize=(62, 62), meta=np.ndarray&gt;\n",
       "    hFacW     (YC, XG) &gt;f4 dask.array&lt;chunksize=(62, 62), meta=np.ndarray&gt;\n",
       "    hFacS     (YG, XC) &gt;f4 dask.array&lt;chunksize=(62, 62), meta=np.ndarray&gt;\n",
       "    maskC     (YC, XC) bool dask.array&lt;chunksize=(62, 62), meta=np.ndarray&gt;\n",
       "    maskW     (YC, XG) bool dask.array&lt;chunksize=(62, 62), meta=np.ndarray&gt;\n",
       "    maskS     (YG, XC) bool dask.array&lt;chunksize=(62, 62), meta=np.ndarray&gt;\n",
       "    iter      (time) int64 dask.array&lt;chunksize=(1,), meta=np.ndarray&gt;\n",
       "  * time      (time) object 0000-01-02 00:00:00 ... 0000-07-21 00:00:00\n",
       "Data variables:\n",
       "    U         (time, YC, XG) float32 dask.array&lt;chunksize=(1, 62, 62), meta=np.ndarray&gt;\n",
       "    PH        (time, YC, XC) float32 dask.array&lt;chunksize=(1, 62, 62), meta=np.ndarray&gt;\n",
       "    S         (time, YC, XC) float32 dask.array&lt;chunksize=(1, 62, 62), meta=np.ndarray&gt;\n",
       "    T         (time, YC, XC) float32 dask.array&lt;chunksize=(1, 62, 62), meta=np.ndarray&gt;\n",
       "    V         (time, YG, XC) float32 dask.array&lt;chunksize=(1, 62, 62), meta=np.ndarray&gt;\n",
       "    Eta       (time, YC, XC) float32 dask.array&lt;chunksize=(1, 62, 62), meta=np.ndarray&gt;\n",
       "    W         (time, YC, XC) float32 dask.array&lt;chunksize=(1, 62, 62), meta=np.ndarray&gt;\n",
       "    USidDrag  (time, YC, XG) float32 dask.array&lt;chunksize=(1, 62, 62), meta=np.ndarray&gt;\n",
       "    VSidDrag  (time, YG, XC) float32 dask.array&lt;chunksize=(1, 62, 62), meta=np.ndarray&gt;\n",
       "    Um_Diss   (time, YC, XG) float32 dask.array&lt;chunksize=(1, 62, 62), meta=np.ndarray&gt;\n",
       "    Vm_Diss   (time, YG, XC) float32 dask.array&lt;chunksize=(1, 62, 62), meta=np.ndarray&gt;\n",
       "    Um_ImplD  (time, YC, XG) float32 dask.array&lt;chunksize=(1, 62, 62), meta=np.ndarray&gt;\n",
       "    Vm_ImplD  (time, YG, XC) float32 dask.array&lt;chunksize=(1, 62, 62), meta=np.ndarray&gt;\n",
       "    Um_Advec  (time, YC, XG) float32 dask.array&lt;chunksize=(1, 62, 62), meta=np.ndarray&gt;\n",
       "    Vm_Advec  (time, YG, XC) float32 dask.array&lt;chunksize=(1, 62, 62), meta=np.ndarray&gt;\n",
       "    Um_Cori   (time, YC, XG) float32 dask.array&lt;chunksize=(1, 62, 62), meta=np.ndarray&gt;\n",
       "    Vm_Cori   (time, YG, XC) float32 dask.array&lt;chunksize=(1, 62, 62), meta=np.ndarray&gt;\n",
       "    Um_dPhiX  (time, YC, XG) float32 dask.array&lt;chunksize=(1, 62, 62), meta=np.ndarray&gt;\n",
       "    Vm_dPhiY  (time, YG, XC) float32 dask.array&lt;chunksize=(1, 62, 62), meta=np.ndarray&gt;\n",
       "    Um_Ext    (time, YC, XG) float32 dask.array&lt;chunksize=(1, 62, 62), meta=np.ndarray&gt;\n",
       "    Vm_Ext    (time, YG, XC) float32 dask.array&lt;chunksize=(1, 62, 62), meta=np.ndarray&gt;\n",
       "    botTauX   (time, YC, XG) float32 dask.array&lt;chunksize=(1, 62, 62), meta=np.ndarray&gt;\n",
       "    botTauY   (time, YG, XC) float32 dask.array&lt;chunksize=(1, 62, 62), meta=np.ndarray&gt;\n",
       "    PHL       (time, YC, XC) float32 dask.array&lt;chunksize=(1, 62, 62), meta=np.ndarray&gt;</pre>"
      ],
      "text/plain": [
       "<xarray.Dataset>\n",
       "Dimensions:   (XC: 62, XG: 62, YC: 62, YG: 62, Z: 1, Zl: 1, Zp1: 2, Zu: 1, time: 200)\n",
       "Coordinates:\n",
       "  * XC        (XC) >f4 -10000.0 10000.0 30000.0 ... 1190000.0 1210000.0\n",
       "  * YC        (YC) >f4 -10000.0 10000.0 30000.0 ... 1190000.0 1210000.0\n",
       "  * XG        (XG) >f4 -20000.0 0.0 20000.0 ... 1160000.0 1180000.0 1200000.0\n",
       "  * YG        (YG) >f4 -20000.0 0.0 20000.0 ... 1160000.0 1180000.0 1200000.0\n",
       "  * Z         (Z) >f4 -2500.0\n",
       "  * Zp1       (Zp1) >f4 0.0 -5000.0\n",
       "  * Zu        (Zu) >f4 -5000.0\n",
       "  * Zl        (Zl) >f4 0.0\n",
       "    rA        (YC, XC) >f4 dask.array<chunksize=(62, 62), meta=np.ndarray>\n",
       "    dxG       (YG, XC) >f4 dask.array<chunksize=(62, 62), meta=np.ndarray>\n",
       "    dyG       (YC, XG) >f4 dask.array<chunksize=(62, 62), meta=np.ndarray>\n",
       "    Depth     (YC, XC) >f4 dask.array<chunksize=(62, 62), meta=np.ndarray>\n",
       "    rAz       (YG, XG) >f4 dask.array<chunksize=(62, 62), meta=np.ndarray>\n",
       "    dxC       (YC, XG) >f4 dask.array<chunksize=(62, 62), meta=np.ndarray>\n",
       "    dyC       (YG, XC) >f4 dask.array<chunksize=(62, 62), meta=np.ndarray>\n",
       "    rAw       (YC, XG) >f4 dask.array<chunksize=(62, 62), meta=np.ndarray>\n",
       "    rAs       (YG, XC) >f4 dask.array<chunksize=(62, 62), meta=np.ndarray>\n",
       "    drC       (Zp1) >f4 dask.array<chunksize=(2,), meta=np.ndarray>\n",
       "    drF       (Z) >f4 dask.array<chunksize=(1,), meta=np.ndarray>\n",
       "    PHrefC    (Z) >f4 dask.array<chunksize=(1,), meta=np.ndarray>\n",
       "    PHrefF    (Zp1) >f4 dask.array<chunksize=(2,), meta=np.ndarray>\n",
       "    hFacC     (YC, XC) >f4 dask.array<chunksize=(62, 62), meta=np.ndarray>\n",
       "    hFacW     (YC, XG) >f4 dask.array<chunksize=(62, 62), meta=np.ndarray>\n",
       "    hFacS     (YG, XC) >f4 dask.array<chunksize=(62, 62), meta=np.ndarray>\n",
       "    maskC     (YC, XC) bool dask.array<chunksize=(62, 62), meta=np.ndarray>\n",
       "    maskW     (YC, XG) bool dask.array<chunksize=(62, 62), meta=np.ndarray>\n",
       "    maskS     (YG, XC) bool dask.array<chunksize=(62, 62), meta=np.ndarray>\n",
       "    iter      (time) int64 dask.array<chunksize=(1,), meta=np.ndarray>\n",
       "  * time      (time) object 0000-01-02 00:00:00 ... 0000-07-21 00:00:00\n",
       "Data variables:\n",
       "    U         (time, YC, XG) float32 dask.array<chunksize=(1, 62, 62), meta=np.ndarray>\n",
       "    PH        (time, YC, XC) float32 dask.array<chunksize=(1, 62, 62), meta=np.ndarray>\n",
       "    S         (time, YC, XC) float32 dask.array<chunksize=(1, 62, 62), meta=np.ndarray>\n",
       "    T         (time, YC, XC) float32 dask.array<chunksize=(1, 62, 62), meta=np.ndarray>\n",
       "    V         (time, YG, XC) float32 dask.array<chunksize=(1, 62, 62), meta=np.ndarray>\n",
       "    Eta       (time, YC, XC) float32 dask.array<chunksize=(1, 62, 62), meta=np.ndarray>\n",
       "    W         (time, YC, XC) float32 dask.array<chunksize=(1, 62, 62), meta=np.ndarray>\n",
       "    USidDrag  (time, YC, XG) float32 dask.array<chunksize=(1, 62, 62), meta=np.ndarray>\n",
       "    VSidDrag  (time, YG, XC) float32 dask.array<chunksize=(1, 62, 62), meta=np.ndarray>\n",
       "    Um_Diss   (time, YC, XG) float32 dask.array<chunksize=(1, 62, 62), meta=np.ndarray>\n",
       "    Vm_Diss   (time, YG, XC) float32 dask.array<chunksize=(1, 62, 62), meta=np.ndarray>\n",
       "    Um_ImplD  (time, YC, XG) float32 dask.array<chunksize=(1, 62, 62), meta=np.ndarray>\n",
       "    Vm_ImplD  (time, YG, XC) float32 dask.array<chunksize=(1, 62, 62), meta=np.ndarray>\n",
       "    Um_Advec  (time, YC, XG) float32 dask.array<chunksize=(1, 62, 62), meta=np.ndarray>\n",
       "    Vm_Advec  (time, YG, XC) float32 dask.array<chunksize=(1, 62, 62), meta=np.ndarray>\n",
       "    Um_Cori   (time, YC, XG) float32 dask.array<chunksize=(1, 62, 62), meta=np.ndarray>\n",
       "    Vm_Cori   (time, YG, XC) float32 dask.array<chunksize=(1, 62, 62), meta=np.ndarray>\n",
       "    Um_dPhiX  (time, YC, XG) float32 dask.array<chunksize=(1, 62, 62), meta=np.ndarray>\n",
       "    Vm_dPhiY  (time, YG, XC) float32 dask.array<chunksize=(1, 62, 62), meta=np.ndarray>\n",
       "    Um_Ext    (time, YC, XG) float32 dask.array<chunksize=(1, 62, 62), meta=np.ndarray>\n",
       "    Vm_Ext    (time, YG, XC) float32 dask.array<chunksize=(1, 62, 62), meta=np.ndarray>\n",
       "    botTauX   (time, YC, XG) float32 dask.array<chunksize=(1, 62, 62), meta=np.ndarray>\n",
       "    botTauY   (time, YG, XC) float32 dask.array<chunksize=(1, 62, 62), meta=np.ndarray>\n",
       "    PHL       (time, YC, XC) float32 dask.array<chunksize=(1, 62, 62), meta=np.ndarray>"
      ]
     },
     "execution_count": 7,
     "metadata": {},
     "output_type": "execute_result"
    }
   ],
   "source": [
    "# read in mitgcm output and look at it\n",
    "\n",
    "rundir = '/rigel/ocp/users/janoski/tutorial_barotropic_gyre/run/'\n",
    "ds = xmitgcm.open_mdsdataset(rundir, iters=72*np.arange(1,201),\n",
    "                             delta_t=1200, calendar='360_day', ref_date='0000-01-01 00:00:00')\n",
    "ds"
   ]
  },
  {
   "cell_type": "code",
   "execution_count": 8,
   "metadata": {},
   "outputs": [
    {
     "data": {
      "text/plain": [
       "<xgcm.Grid>\n",
       "Z Axis (not periodic):\n",
       "  * center   Z --> left\n",
       "  * left     Zl --> center\n",
       "  * outer    Zp1 --> center\n",
       "  * right    Zu --> center\n",
       "Y Axis (not periodic):\n",
       "  * center   YC --> left\n",
       "  * left     YG --> center\n",
       "T Axis (not periodic):\n",
       "  * center   time\n",
       "X Axis (not periodic):\n",
       "  * center   XC --> left\n",
       "  * left     XG --> center"
      ]
     },
     "execution_count": 8,
     "metadata": {},
     "output_type": "execute_result"
    }
   ],
   "source": [
    "# produce a grid from the dataset coordinates\n",
    "\n",
    "import xgcm\n",
    "metrics = {\n",
    "    ('X',): ['dxC', 'dxG'], # X distances\n",
    "    ('Y',): ['dyC', 'dyG'], # Y distances\n",
    "    ('Z',): ['drF', 'drC'], # Z distances\n",
    "    ('X', 'Y'): ['rA', 'rAz', 'rAs', 'rAw'] # Areas\n",
    "}\n",
    "grid = xgcm.Grid(ds, metrics=metrics,periodic=False)\n",
    "grid"
   ]
  },
  {
   "cell_type": "markdown",
   "metadata": {},
   "source": [
    "$$ \\psi(x,y,t) = -\\int_0^y dy' \\int_{-H}^0 dz u(x', y, t) $$ \n",
    "\n",
    "The following line is zonal current * layer thickness (drF = 5000 m)"
   ]
  },
  {
   "cell_type": "code",
   "execution_count": 10,
   "metadata": {
    "collapsed": true
   },
   "outputs": [],
   "source": [
    "ψ = -grid.cumint((ds.U * ds.drF[0]),'Y',boundary='fill')/1e6"
   ]
  },
  {
   "cell_type": "code",
   "execution_count": 12,
   "metadata": {},
   "outputs": [
    {
     "data": {
      "image/png": "[encoded data removed]",
      "text/plain": [
       "<Figure size 432x288 with 2 Axes>"
      ]
     },
     "metadata": {
      "needs_background": "light"
     },
     "output_type": "display_data"
    }
   ],
   "source": [
    "ψ.isel(time=-1).plot()\n",
    "plt.show()"
   ]
  },
  {
   "cell_type": "markdown",
   "metadata": {},
   "source": [
    "Compare this against the Stommmel model given by:\n",
    "\n",
    "$$ \\psi = \\frac{\\tau_0\\pi}{\\beta}\\left(1 - \\frac{x}{a} - e^{-x/(a\\epsilon_S)}\\right)\\left(sin\\frac{\\pi y}{a}\\right) $$"
   ]
  },
  {
   "cell_type": "code",
   "execution_count": 23,
   "metadata": {},
   "outputs": [
    {
     "data": {
      "text/plain": [
       "[<matplotlib.lines.Line2D at 0x2aab05799590>]"
      ]
     },
     "execution_count": 23,
     "metadata": {},
     "output_type": "execute_result"
    },
    {
     "data": {
      "image/png": "[encoded data removed]",
      "text/plain": [
       "<Figure size 432x288 with 1 Axes>"
      ]
     },
     "metadata": {
      "needs_background": "light"
     },
     "output_type": "display_data"
    }
   ],
   "source": [
    "# read wind stress\n",
    "dtype = '>f4'\n",
    "# units N/m^2\n",
    "taux_data = np.fromfile(f'{rundir}/windx_cosy.bin', dtype=dtype)\n",
    "taux_data.shape = ds.rA.shape\n",
    "rho0 = 1000.\n",
    "ds['taux'] = ('YC', 'XG'), taux_data / rho0\n",
    "ds.taux.isel(XG=0).plot(y='YC')"
   ]
  },
  {
   "cell_type": "code",
   "execution_count": 28,
   "metadata": {},
   "outputs": [
    {
     "data": {
      "text/plain": [
       "[<matplotlib.lines.Line2D at 0x2aab05dbdd10>]"
      ]
     },
     "execution_count": 28,
     "metadata": {},
     "output_type": "execute_result"
    },
    {
     "data": {
      "image/png": "[encoded data removed]",
      "text/plain": [
       "<Figure size 432x288 with 1 Axes>"
      ]
     },
     "metadata": {
      "needs_background": "light"
     },
     "output_type": "display_data"
    }
   ],
   "source": [
    "curl_tau=-1 * grid.diff(ds.taux * ds.dxC, 'Y', boundary='extend')\n",
    "curl_tau.isel(XG=0).plot(y='YG')"
   ]
  },
  {
   "cell_type": "code",
   "execution_count": 30,
   "metadata": {
    "collapsed": true
   },
   "outputs": [],
   "source": [
    "τ0 = 0.1/1000\n",
    "pi = np.pi\n",
    "β = 1e-11 # s^-1 m^-1\n",
    "x = ds.XG\n",
    "a = float(ds.dxC.isel(YC=0,XG=slice(1,-1)).sum(dim='XG'))\n",
    "r = 1e-6\n",
    "ϵ = r / (β * a)\n",
    "y = ds.YG"
   ]
  },
  {
   "cell_type": "code",
   "execution_count": 31,
   "metadata": {},
   "outputs": [],
   "source": [
    "ψ_sto = (τ0 * pi / β) * (1 - (x/a) - np.exp((-1*x) / (a * ϵ))) * np.sin(pi * y / a) / 1e6"
   ]
  },
  {
   "cell_type": "code",
   "execution_count": 32,
   "metadata": {},
   "outputs": [
    {
     "data": {
      "text/plain": [
       "<matplotlib.collections.QuadMesh at 0x2aab0607f290>"
      ]
     },
     "execution_count": 32,
     "metadata": {},
     "output_type": "execute_result"
    },
    {
     "data": {
      "image/png": "[encoded data removed]",
      "text/plain": [
       "<Figure size 432x288 with 2 Axes>"
      ]
     },
     "metadata": {
      "needs_background": "light"
     },
     "output_type": "display_data"
    }
   ],
   "source": [
    "ψ_sto.plot(y='YG',levels=np.arange(-20,21,1))"
   ]
  },
  {
   "cell_type": "markdown",
   "metadata": {},
   "source": [
    "#### 3) Diagnose all terms in the barotropic vorticity budget to the best of your ability. You may wish to use the extra diagnostics I have suggested in the github repo."
   ]
  },
  {
   "cell_type": "markdown",
   "metadata": {},
   "source": [
    "$$ \\frac{\\partial{Z}}{\\partial{t}} + \\vec{U}\\cdotp\\nabla Z + \\beta V = A_h\\nabla^2Z + curl_z(\\vec{\\tau}_S) + rZ$$"
   ]
  },
  {
   "cell_type": "code",
   "execution_count": 65,
   "metadata": {},
   "outputs": [],
   "source": [
    "Z=grid.diff(ds.V * ds.dyC * 5000, 'X', boundary='extend') - grid.diff(\n",
    "    ds.U * ds.dxC * 5000, 'Y', boundary='extend') / ds.rAz\n",
    "term2 = ds.U * 5000 * grid.diff(Z, 'X',boundary='extend') + ds.V * 5000 * grid.diff(Z, 'Y',boundary='extend')"
   ]
  },
  {
   "cell_type": "code",
   "execution_count": 46,
   "metadata": {},
   "outputs": [],
   "source": [
    "# question for rabernat: why do we multiply by dyC/dxC and then divide by rAz?"
   ]
  },
  {
   "cell_type": "code",
   "execution_count": 69,
   "metadata": {},
   "outputs": [
    {
     "data": {
      "text/html": [
       "<pre>&lt;xarray.DataArray &#x27;sub-801dc5122b5a0df1ee7d0707f02ed00d&#x27; (time: 200, YG: 62, XG: 62)&gt;\n",
       "dask.array&lt;sub, shape=(200, 62, 62), dtype=float32, chunksize=(1, 62, 61), chunktype=numpy.ndarray&gt;\n",
       "Coordinates:\n",
       "  * time     (time) object 0000-01-02 00:00:00 ... 0000-07-21 00:00:00\n",
       "  * YG       (YG) &gt;f4 -20000.0 0.0 20000.0 ... 1160000.0 1180000.0 1200000.0\n",
       "  * XG       (XG) &gt;f4 -20000.0 0.0 20000.0 ... 1160000.0 1180000.0 1200000.0</pre>"
      ],
      "text/plain": [
       "<xarray.DataArray 'sub-801dc5122b5a0df1ee7d0707f02ed00d' (time: 200, YG: 62, XG: 62)>\n",
       "dask.array<sub, shape=(200, 62, 62), dtype=float32, chunksize=(1, 62, 61), chunktype=numpy.ndarray>\n",
       "Coordinates:\n",
       "  * time     (time) object 0000-01-02 00:00:00 ... 0000-07-21 00:00:00\n",
       "  * YG       (YG) >f4 -20000.0 0.0 20000.0 ... 1160000.0 1180000.0 1200000.0\n",
       "  * XG       (XG) >f4 -20000.0 0.0 20000.0 ... 1160000.0 1180000.0 1200000.0"
      ]
     },
     "execution_count": 69,
     "metadata": {},
     "output_type": "execute_result"
    }
   ],
   "source": [
    "grid.diff(ds.V * ds.dyC * 5000, 'X', boundary='extend')"
   ]
  },
  {
   "cell_type": "code",
   "execution_count": 70,
   "metadata": {},
   "outputs": [
    {
     "data": {
      "text/html": [
       "<pre>&lt;xarray.DataArray &#x27;sub-1c54bef3afd48a769f79578c2bf6bad6&#x27; (time: 200, YG: 62, XG: 62)&gt;\n",
       "dask.array&lt;sub, shape=(200, 62, 62), dtype=float32, chunksize=(1, 61, 62), chunktype=numpy.ndarray&gt;\n",
       "Coordinates:\n",
       "  * time     (time) object 0000-01-02 00:00:00 ... 0000-07-21 00:00:00\n",
       "  * YG       (YG) &gt;f4 -20000.0 0.0 20000.0 ... 1160000.0 1180000.0 1200000.0\n",
       "  * XG       (XG) &gt;f4 -20000.0 0.0 20000.0 ... 1160000.0 1180000.0 1200000.0</pre>"
      ],
      "text/plain": [
       "<xarray.DataArray 'sub-1c54bef3afd48a769f79578c2bf6bad6' (time: 200, YG: 62, XG: 62)>\n",
       "dask.array<sub, shape=(200, 62, 62), dtype=float32, chunksize=(1, 61, 62), chunktype=numpy.ndarray>\n",
       "Coordinates:\n",
       "  * time     (time) object 0000-01-02 00:00:00 ... 0000-07-21 00:00:00\n",
       "  * YG       (YG) >f4 -20000.0 0.0 20000.0 ... 1160000.0 1180000.0 1200000.0\n",
       "  * XG       (XG) >f4 -20000.0 0.0 20000.0 ... 1160000.0 1180000.0 1200000.0"
      ]
     },
     "execution_count": 70,
     "metadata": {},
     "output_type": "execute_result"
    }
   ],
   "source": [
    "grid.diff(\n",
    "    ds.U * ds.dxC * 5000, 'Y', boundary='extend')"
   ]
  },
  {
   "cell_type": "code",
   "execution_count": 74,
   "metadata": {},
   "outputs": [
    {
     "ename": "KeyError",
     "evalue": "'XY'",
     "output_type": "error",
     "traceback": [
      "\u001b[0;31m---------------------------------------------------------------------------\u001b[0m",
      "\u001b[0;31mKeyError\u001b[0m                                  Traceback (most recent call last)",
      "\u001b[0;32m<ipython-input-74-c853910b52c2>\u001b[0m in \u001b[0;36m<module>\u001b[0;34m\u001b[0m\n\u001b[0;32m----> 1\u001b[0;31m \u001b[0mgrid\u001b[0m\u001b[0;34m.\u001b[0m\u001b[0mdiff\u001b[0m\u001b[0;34m(\u001b[0m\u001b[0mZ\u001b[0m\u001b[0;34m,\u001b[0m \u001b[0;34m'XY'\u001b[0m\u001b[0;34m,\u001b[0m\u001b[0mboundary\u001b[0m\u001b[0;34m=\u001b[0m\u001b[0;34m'extend'\u001b[0m\u001b[0;34m)\u001b[0m\u001b[0;34m\u001b[0m\u001b[0;34m\u001b[0m\u001b[0m\n\u001b[0m",
      "\u001b[0;32m/rigel/ocp/projects/conda/envs/pangeo2020/lib/python3.7/site-packages/xgcm/grid.py\u001b[0m in \u001b[0;36mdiff\u001b[0;34m(self, da, axis, **kwargs)\u001b[0m\n\u001b[1;32m   1150\u001b[0m         \"\"\"\n\u001b[1;32m   1151\u001b[0m \u001b[0;34m\u001b[0m\u001b[0m\n\u001b[0;32m-> 1152\u001b[0;31m         \u001b[0max\u001b[0m \u001b[0;34m=\u001b[0m \u001b[0mself\u001b[0m\u001b[0;34m.\u001b[0m\u001b[0maxes\u001b[0m\u001b[0;34m[\u001b[0m\u001b[0maxis\u001b[0m\u001b[0;34m]\u001b[0m\u001b[0;34m\u001b[0m\u001b[0;34m\u001b[0m\u001b[0m\n\u001b[0m\u001b[1;32m   1153\u001b[0m         \u001b[0;32mreturn\u001b[0m \u001b[0max\u001b[0m\u001b[0;34m.\u001b[0m\u001b[0mdiff\u001b[0m\u001b[0;34m(\u001b[0m\u001b[0mda\u001b[0m\u001b[0;34m,\u001b[0m \u001b[0;34m**\u001b[0m\u001b[0mkwargs\u001b[0m\u001b[0;34m)\u001b[0m\u001b[0;34m\u001b[0m\u001b[0;34m\u001b[0m\u001b[0m\n\u001b[1;32m   1154\u001b[0m \u001b[0;34m\u001b[0m\u001b[0m\n",
      "\u001b[0;31mKeyError\u001b[0m: 'XY'"
     ]
    }
   ],
   "source": [
    "grid.diff(Z, 'X',boundary='extend')"
   ]
  },
  {
   "cell_type": "code",
   "execution_count": null,
   "metadata": {
    "collapsed": true
   },
   "outputs": [],
   "source": []
  }
 ],
 "metadata": {
  "kernelspec": {
   "display_name": "pangeo2020",
   "language": "python",
   "name": "pangeo2020"
  },
  "language_info": {
   "codemirror_mode": {
    "name": "ipython",
    "version": 3
   },
   "file_extension": ".py",
   "mimetype": "text/x-python",
   "name": "python",
   "nbconvert_exporter": "python",
   "pygments_lexer": "ipython3",
   "version": "3.7.6"
  }
 },
 "nbformat": 4,
 "nbformat_minor": 2
}
